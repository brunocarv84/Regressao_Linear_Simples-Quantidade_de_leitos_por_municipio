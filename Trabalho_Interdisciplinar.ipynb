{
 "cells": [
  {
   "cell_type": "markdown",
   "metadata": {},
   "source": [
    "#### O presente trabalho tem como intuito analisar a distribuição de leitos nas Unidades de Saúde Básicas em todo território nacional. Em todo o trabalho foram aplicados os conhecimentos adquiridos nas matérias Estatística Aplicada e Programação em R e Python, ministradas respectivamente pelo Prof. Paulo Canas e o Prof. Ricardo Rocha. \n",
    "\n",
    "#### Foi escolhida uma base real para a realização do trabalho, a idéia foi montar uma base que analisaria a quantidade de leitos em Unidades Básicas de Saúde em todo o Brasil (\"BASE_DE_DADOS_CNES_201810\", encontradada no endereço: http://cnes.datasus.gov.br/pages/downloads/arquivosBaseDados.jsp). A supracitada base é composta por 102 tabelas relacionais, contudo, foi feita a opção  de trabalhar com 3 dessas tabelas, são elas: \"tbEstabelecimento201810.csv\", \"tbTipoUnidade201810.csv\" e \"rlEstabComplementar201810.csv\" (cujo dicionário de dados segue em anexo). \n",
    "\n",
    "#### Como forma de enriquecer a base estudada, adicionamos variáveis encontradas no arquivo \"DTB_BRASIL_MUNICIPIO.csv\", disponível no endereço: ftp://geoftp.ibge.gov.br/organizacao_do_territorio/redes_e_fluxos_geograficos/gestao_do_territorio/bases_de_dados/xls/Base_de_dados_dos_municipios.xls, o que possibilitou uma análise descritiva mais apurada acrescentando à base principal variáveis como: UF e Município. \n",
    "   \n",
    "#### Posteriormente, como forma de estabelecer uma relação entre quantidade de leitos de um município e a população projetada do mesmo, foi acrescentada a base \"estimativa_dou_2018_20181019.xls\" , que trás em seu conteúdo a projeção populacional dos municípios do Brasil em 2018, encontrada no endereço: https://www.ibge.gov.br/estatisticas-novoportal/sociais/populacao/9103-estimativas-de-populacao.html?=&t=downloads."
   ]
  },
  {
   "cell_type": "markdown",
   "metadata": {},
   "source": [
    "   "
   ]
  },
  {
   "cell_type": "code",
   "execution_count": 1,
   "metadata": {},
   "outputs": [],
   "source": [
    "from pyspark.sql import SQLContext\n",
    "from pyspark.sql.types import *\n",
    "from pyspark.sql import functions as F\n",
    "from pyspark.sql.functions import desc \n",
    "from pyspark.sql.functions import col\n",
    "from pyspark.sql.functions import countDistinct\n",
    "from pyspark.sql.functions import avg\n",
    "from sklearn.model_selection import train_test_split\n",
    "from sklearn.linear_model import LinearRegression\n",
    "from sklearn import metrics\n",
    "from scipy import stats\n",
    "from pivottablejs import pivot_ui\n",
    "import pandas as pd\n",
    "import qgrid \n",
    "import matplotlib\n",
    "import matplotlib.pyplot as plt\n",
    "import seaborn as sns\n",
    "import plotly.plotly as py\n",
    "import plotly.tools as tls\n",
    "import numpy as np\n",
    "%matplotlib inline"
   ]
  },
  {
   "cell_type": "markdown",
   "metadata": {},
   "source": [
    "# MONTAGEM DA BASE"
   ]
  },
  {
   "cell_type": "code",
   "execution_count": 2,
   "metadata": {
    "scrolled": true
   },
   "outputs": [],
   "source": [
    "base = spark.read.csv(\"tbEstabelecimento201810.csv\",sep=\";\",header=True,inferSchema=True)\n",
    "for x in base.columns:\n",
    "    base = base.withColumnRenamed(x,\"tbEstabelecimento_\"+x)"
   ]
  },
  {
   "cell_type": "code",
   "execution_count": 3,
   "metadata": {
    "scrolled": true
   },
   "outputs": [
    {
     "name": "stdout",
     "output_type": "stream",
     "text": [
      "root\n",
      " |-- tbEstabelecimento_CO_UNIDADE: string (nullable = true)\n",
      " |-- tbEstabelecimento_CO_CNES: integer (nullable = true)\n",
      " |-- tbEstabelecimento_NU_CNPJ_MANTENEDORA: long (nullable = true)\n",
      " |-- tbEstabelecimento_TP_PFPJ: integer (nullable = true)\n",
      " |-- tbEstabelecimento_NIVEL_DEP: integer (nullable = true)\n",
      " |-- tbEstabelecimento_NO_RAZAO_SOCIAL: string (nullable = true)\n",
      " |-- tbEstabelecimento_NO_FANTASIA: string (nullable = true)\n",
      " |-- tbEstabelecimento_NO_LOGRADOURO: string (nullable = true)\n",
      " |-- tbEstabelecimento_NU_ENDERECO: string (nullable = true)\n",
      " |-- tbEstabelecimento_NO_COMPLEMENTO: string (nullable = true)\n",
      " |-- tbEstabelecimento_NO_BAIRRO: string (nullable = true)\n",
      " |-- tbEstabelecimento_CO_CEP: integer (nullable = true)\n",
      " |-- tbEstabelecimento_CO_REGIAO_SAUDE: string (nullable = true)\n",
      " |-- tbEstabelecimento_CO_MICRO_REGIAO: string (nullable = true)\n",
      " |-- tbEstabelecimento_CO_DISTRITO_SANITARIO: string (nullable = true)\n",
      " |-- tbEstabelecimento_CO_DISTRITO_ADMINISTRATIVO: string (nullable = true)\n",
      " |-- tbEstabelecimento_NU_TELEFONE: string (nullable = true)\n",
      " |-- tbEstabelecimento_NU_FAX: string (nullable = true)\n",
      " |-- tbEstabelecimento_NO_EMAIL: string (nullable = true)\n",
      " |-- tbEstabelecimento_NU_CPF: long (nullable = true)\n",
      " |-- tbEstabelecimento_NU_CNPJ: long (nullable = true)\n",
      " |-- tbEstabelecimento_CO_ATIVIDADE: integer (nullable = true)\n",
      " |-- tbEstabelecimento_CO_CLIENTELA: long (nullable = true)\n",
      " |-- tbEstabelecimento_NU_ALVARA: string (nullable = true)\n",
      " |-- tbEstabelecimento_DT_EXPEDICAO: string (nullable = true)\n",
      " |-- tbEstabelecimento_TP_ORGAO_EXPEDIDOR: string (nullable = true)\n",
      " |-- tbEstabelecimento_DT_VAL_LIC_SANI: string (nullable = true)\n",
      " |-- tbEstabelecimento_TP_LIC_SANI: integer (nullable = true)\n",
      " |-- tbEstabelecimento_TP_UNIDADE: integer (nullable = true)\n",
      " |-- tbEstabelecimento_CO_TURNO_ATENDIMENTO: integer (nullable = true)\n",
      " |-- tbEstabelecimento_CO_ESTADO_GESTOR: integer (nullable = true)\n",
      " |-- tbEstabelecimento_CO_MUNICIPIO_GESTOR: string (nullable = true)\n",
      " |-- tbEstabelecimento_TO_CHAR(DT_ATUALIZACAO,'DD/MM/YYYY'): string (nullable = true)\n",
      " |-- tbEstabelecimento_CO_USUARIO: string (nullable = true)\n",
      " |-- tbEstabelecimento_CO_CPFDIRETORCLN: long (nullable = true)\n",
      " |-- tbEstabelecimento_REG_DIRETORCLN: string (nullable = true)\n",
      " |-- tbEstabelecimento_ST_ADESAO_FILANTROP: string (nullable = true)\n",
      " |-- tbEstabelecimento_CO_MOTIVO_DESAB: integer (nullable = true)\n",
      " |-- tbEstabelecimento_NO_URL: string (nullable = true)\n",
      " |-- tbEstabelecimento_NU_LATITUDE: double (nullable = true)\n",
      " |-- tbEstabelecimento_NU_LONGITUDE: string (nullable = true)\n",
      " |-- tbEstabelecimento_TO_CHAR(DT_ATU_GEO,'DD/MM/YYYY'): string (nullable = true)\n",
      " |-- tbEstabelecimento_NO_USUARIO_GEO: string (nullable = true)\n",
      " |-- tbEstabelecimento_CO_NATUREZA_JUR: string (nullable = true)\n",
      " |-- tbEstabelecimento_TP_ESTAB_SEMPRE_ABERTO: string (nullable = true)\n",
      " |-- tbEstabelecimento_ST_GERACREDITO_GERENTE_SGIF: string (nullable = true)\n",
      " |-- tbEstabelecimento_ST_CONEXAO_INTERNET: string (nullable = true)\n",
      " |-- tbEstabelecimento_CO_TIPO_UNIDADE: string (nullable = true)\n",
      " |-- tbEstabelecimento_NO_FANTASIA_ABREV: string (nullable = true)\n",
      " |-- tbEstabelecimento_TP_GESTAO: string (nullable = true)\n",
      " |-- tbEstabelecimento_TO_CHAR(DT_ATUALIZACAO_ORIGEM,'DD/MM/YYYY'): string (nullable = true)\n",
      " |-- tbEstabelecimento_CO_TIPO_ESTABELECIMENTO: string (nullable = true)\n",
      " |-- tbEstabelecimento_CO_ATIVIDADE_PRINCIPAL: string (nullable = true)\n",
      "\n"
     ]
    }
   ],
   "source": [
    "base.printSchema()"
   ]
  },
  {
   "cell_type": "code",
   "execution_count": 3,
   "metadata": {},
   "outputs": [],
   "source": [
    "base_tp_unidade = spark.read.csv(\"tbTipoUnidade201810.csv\",sep=\";\",header=True,inferSchema=True)\n",
    "for x in base_tp_unidade.columns:\n",
    "    base_tp_unidade = base_tp_unidade.withColumnRenamed(x,\"tbTipoUnidade_\"+x)"
   ]
  },
  {
   "cell_type": "code",
   "execution_count": 22,
   "metadata": {},
   "outputs": [
    {
     "name": "stdout",
     "output_type": "stream",
     "text": [
      "root\n",
      " |-- tbTipoUnidade_CO_TIPO_UNIDADE: integer (nullable = true)\n",
      " |-- tbTipoUnidade_DS_TIPO_UNIDADE: string (nullable = true)\n",
      "\n"
     ]
    }
   ],
   "source": [
    "base_tp_unidade.printSchema()"
   ]
  },
  {
   "cell_type": "code",
   "execution_count": 4,
   "metadata": {},
   "outputs": [],
   "source": [
    "base_cod_mun = spark.read.csv(\"DTB_BRASIL_MUNICIPIO.csv\",sep=\";\",header=True,inferSchema=True)\n",
    "for x in base_cod_mun.columns:\n",
    "    base_cod_mun = base_cod_mun.withColumnRenamed(x,\"dtbBrasilMunicipio_\"+x)"
   ]
  },
  {
   "cell_type": "code",
   "execution_count": 23,
   "metadata": {},
   "outputs": [
    {
     "name": "stdout",
     "output_type": "stream",
     "text": [
      "root\n",
      " |-- dtbBrasilMunicipio_UF: integer (nullable = true)\n",
      " |-- dtbBrasilMunicipio_NOME_UF: string (nullable = true)\n",
      " |-- dtbBrasilMunicipio_MESO_GEO: integer (nullable = true)\n",
      " |-- dtbBrasilMunicipio_NOME_MESO: string (nullable = true)\n",
      " |-- dtbBrasilMunicipio_MICRO_GEO: integer (nullable = true)\n",
      " |-- dtbBrasilMunicipio_NOME_MICRO: string (nullable = true)\n",
      " |-- dtbBrasilMunicipio_MUNICIPIO: integer (nullable = true)\n",
      " |-- dtbBrasilMunicipio_CODMUNC_COMPLETO7: integer (nullable = true)\n",
      " |-- dtbBrasilMunicipio_CODMUNC_COMPLETO6: integer (nullable = true)\n",
      " |-- dtbBrasilMunicipio_NOME_MUNC: string (nullable = true)\n",
      "\n"
     ]
    }
   ],
   "source": [
    "base_cod_mun.printSchema()"
   ]
  },
  {
   "cell_type": "code",
   "execution_count": 5,
   "metadata": {},
   "outputs": [],
   "source": [
    "base_complementar = spark.read.csv(\"rlEstabComplementar201810.csv\",sep=\";\",header=True,inferSchema=True)\n",
    "for x in base_complementar.columns:\n",
    "    base_complementar = base_complementar.withColumnRenamed(x,\"rlEstabComplementar_\"+x)"
   ]
  },
  {
   "cell_type": "code",
   "execution_count": 24,
   "metadata": {},
   "outputs": [
    {
     "name": "stdout",
     "output_type": "stream",
     "text": [
      "root\n",
      " |-- rlEstabComplementar_CO_UNIDADE: string (nullable = true)\n",
      " |-- rlEstabComplementar_CO_LEITO: integer (nullable = true)\n",
      " |-- rlEstabComplementar_CO_TIPO_LEITO: double (nullable = true)\n",
      " |-- rlEstabComplementar_TP_ALTACOMP: string (nullable = true)\n",
      " |-- rlEstabComplementar_QT_EXIST: integer (nullable = true)\n",
      " |-- rlEstabComplementar_QT_CONTR: integer (nullable = true)\n",
      " |-- rlEstabComplementar_QT_SUS: integer (nullable = true)\n",
      " |-- rlEstabComplementar_TO_CHAR(DT_ATUALIZACAO,'DD/MM/YYYY'): string (nullable = true)\n",
      " |-- rlEstabComplementar_CO_USUARIO: string (nullable = true)\n",
      " |-- rlEstabComplementar_TO_CHAR(DT_ATUALIZACAO_ORIGEM,'DD/MM/YYYY'): string (nullable = true)\n",
      "\n"
     ]
    }
   ],
   "source": [
    "base_complementar.printSchema()"
   ]
  },
  {
   "cell_type": "code",
   "execution_count": 6,
   "metadata": {},
   "outputs": [],
   "source": [
    "base_populacao = spark.read.csv(\"PROJ_POPULACIONAL_2018.csv\",sep=\";\",header=True,inferSchema=True)\n",
    "for x in base_populacao.columns:\n",
    "    base_populacao = base_populacao.withColumnRenamed(x,\"ibgePopulacao_\"+x)"
   ]
  },
  {
   "cell_type": "code",
   "execution_count": 25,
   "metadata": {},
   "outputs": [
    {
     "name": "stdout",
     "output_type": "stream",
     "text": [
      "root\n",
      " |-- ibgePopulacao_UF: string (nullable = true)\n",
      " |-- ibgePopulacao_COD_REGIAO: integer (nullable = true)\n",
      " |-- ibgePopulacao_COD_UF: integer (nullable = true)\n",
      " |-- ibgePopulacao_COD_MUN_7: integer (nullable = true)\n",
      " |-- ibgePopulacao_COD_MUN_6: integer (nullable = true)\n",
      " |-- ibgePopulacao_NM_MUNICIPIO: string (nullable = true)\n",
      " |-- ibgePopulacao_POPULACAO_ESTIMADA: integer (nullable = true)\n",
      "\n"
     ]
    }
   ],
   "source": [
    "base_populacao.printSchema()"
   ]
  },
  {
   "cell_type": "code",
   "execution_count": 7,
   "metadata": {
    "scrolled": true
   },
   "outputs": [],
   "source": [
    "base_geo_final = base.select('tbEstabelecimento_CO_UNIDADE', 'tbEstabelecimento_CO_CNES', 'tbEstabelecimento_NO_LOGRADOURO', 'tbEstabelecimento_NU_ENDERECO', 'tbEstabelecimento_NO_COMPLEMENTO', 'tbEstabelecimento_NO_BAIRRO', 'tbEstabelecimento_CO_CEP', 'tbEstabelecimento_CO_ESTADO_GESTOR', 'tbEstabelecimento_CO_MUNICIPIO_GESTOR', 'tbEstabelecimento_TP_UNIDADE')"
   ]
  },
  {
   "cell_type": "code",
   "execution_count": 8,
   "metadata": {},
   "outputs": [],
   "source": [
    "base_cod_mun = base_cod_mun.withColumnRenamed(\"dtbBrasilMunicipio_Mesorregião Geográfica\", \"dtbBrasilMunicipio_MESO_GEO\").withColumnRenamed(\"dtbBrasilMunicipio_Nome_UF\", \"dtbBrasilMunicipio_NOME_UF\").withColumnRenamed(\"dtbBrasilMunicipio_Nome_Mesorregião\", \"dtbBrasilMunicipio_NOME_MESO\").withColumnRenamed(\"dtbBrasilMunicipio_Microrregião Geográfica\", \"dtbBrasilMunicipio_MICRO_GEO\").withColumnRenamed(\"dtbBrasilMunicipio_Nome_Microrregião\", \"dtbBrasilMunicipio_NOME_MICRO\").withColumnRenamed(\"dtbBrasilMunicipio_Município\", \"dtbBrasilMunicipio_MUNICIPIO\").withColumnRenamed(\"dtbBrasilMunicipio_Código Município Completo7\", \"dtbBrasilMunicipio_CODMUNC_COMPLETO7\").withColumnRenamed(\"dtbBrasilMunicipio_Nome_Município\", \"dtbBrasilMunicipio_NOME_MUNC\").withColumnRenamed(\"dtbBrasilMunicipio_Código Município Completo6\", \"dtbBrasilMunicipio_CODMUNC_COMPLETO6\")"
   ]
  },
  {
   "cell_type": "code",
   "execution_count": 9,
   "metadata": {},
   "outputs": [],
   "source": [
    "base_geo_final = base_tp_unidade.join(base_geo_final,base_tp_unidade['tbTipoUnidade_CO_TIPO_UNIDADE'] ==base_geo_final['tbEstabelecimento_TP_UNIDADE'] ,'inner')"
   ]
  },
  {
   "cell_type": "code",
   "execution_count": 10,
   "metadata": {},
   "outputs": [],
   "source": [
    "base_geo_final = base_complementar.join(base_geo_final,base_complementar['rlEstabComplementar_CO_UNIDADE'] ==base_geo_final['tbEstabelecimento_CO_UNIDADE'] ,'inner')"
   ]
  },
  {
   "cell_type": "code",
   "execution_count": 11,
   "metadata": {
    "scrolled": true
   },
   "outputs": [],
   "source": [
    "base_geo_final = base_cod_mun.join(base_geo_final,base_cod_mun['dtbBrasilMunicipio_CODMUNC_COMPLETO6'] ==base_geo_final['tbEstabelecimento_CO_MUNICIPIO_GESTOR'] ,'inner')"
   ]
  },
  {
   "cell_type": "code",
   "execution_count": 12,
   "metadata": {},
   "outputs": [],
   "source": [
    "base_geo_final = base_geo_final.drop('tbEstabelecimento_CO_MUNICIPIO_GESTOR','rlEstabComplementar_CO_UNIDADE')"
   ]
  },
  {
   "cell_type": "code",
   "execution_count": null,
   "metadata": {},
   "outputs": [],
   "source": [
    "#base_geo_final = base_geo_final.withColumn('tbEstabelecimento_ENDERECO',F.concat(F.col('tbEstabelecimento_NO_LOGRADOURO'),F.lit(' ,'), F.col('tbEstabelecimento_NU_ENDERECO'),F.lit(' ,'), F.col('tbEstabelecimento_NO_COMPLEMENTO'),F.lit(' ,'), F.col('tbEstabelecimento_NO_BAIRRO'),F.lit(' ,'), F.col('tbEstabelecimento_CO_CEP'),F.lit(' ,'), F.col('dtbBrasilMunicipio_NOME_UF')))"
   ]
  },
  {
   "cell_type": "code",
   "execution_count": 13,
   "metadata": {},
   "outputs": [],
   "source": [
    "base_geo_final_select = base_geo_final.select('tbEstabelecimento_CO_UNIDADE','tbEstabelecimento_CO_CNES','tbEstabelecimento_TP_UNIDADE','tbTipoUnidade_DS_TIPO_UNIDADE','dtbBrasilMunicipio_UF','dtbBrasilMunicipio_CODMUNC_COMPLETO6','dtbBrasilMunicipio_NOME_MUNC','rlEstabComplementar_QT_EXIST','rlEstabComplementar_QT_SUS')"
   ]
  },
  {
   "cell_type": "code",
   "execution_count": 14,
   "metadata": {},
   "outputs": [],
   "source": [
    "base_geo_final_select = base_geo_final_select.withColumn(\"dtbBrasilMunicipio_COD_REGIAO\",F.substring(\"dtbBrasilMunicipio_CODMUNC_COMPLETO6\",1,1))"
   ]
  },
  {
   "cell_type": "code",
   "execution_count": 15,
   "metadata": {},
   "outputs": [],
   "source": [
    "base_geo_final_select = base_geo_final_select.withColumn(\"dtbBrasilMunicipio_COD_ESTADO\",F.substring(\"dtbBrasilMunicipio_CODMUNC_COMPLETO6\",1,2))"
   ]
  },
  {
   "cell_type": "code",
   "execution_count": 16,
   "metadata": {},
   "outputs": [],
   "source": [
    "base_agrup = base_geo_final_select.groupby(\"tbEstabelecimento_CO_UNIDADE\",\"tbEstabelecimento_CO_CNES\",\"tbEstabelecimento_TP_UNIDADE\",\"tbTipoUnidade_DS_TIPO_UNIDADE\",\"dtbBrasilMunicipio_UF\",\"dtbBrasilMunicipio_COD_REGIAO\",\"dtbBrasilMunicipio_CODMUNC_COMPLETO6\",\"dtbBrasilMunicipio_NOME_MUNC\").agg(F.sum(\"rlEstabComplementar_QT_EXIST\").alias(\"total_Leitos\"))"
   ]
  },
  {
   "cell_type": "code",
   "execution_count": 17,
   "metadata": {},
   "outputs": [],
   "source": [
    "base_agrup_final = base_populacao.join(base_agrup,base_populacao['ibgePopulacao_COD_MUN_6'] ==base_agrup['dtbBrasilMunicipio_CODMUNC_COMPLETO6'] ,'inner')"
   ]
  },
  {
   "cell_type": "code",
   "execution_count": 18,
   "metadata": {},
   "outputs": [],
   "source": [
    "base_agrup_final = base_agrup_final.withColumn(\"DS_REGIAO\", F.when( (base_agrup_final[\"dtbBrasilMunicipio_COD_REGIAO\"]==1), 'Norte').when( (base_agrup_final[\"dtbBrasilMunicipio_COD_REGIAO\"]==2), 'Nordeste').when( (base_agrup_final[\"dtbBrasilMunicipio_COD_REGIAO\"]==3), 'Sudeste').when( (base_agrup_final[\"dtbBrasilMunicipio_COD_REGIAO\"]==4), 'Sul').otherwise('Centro-Oeste'))"
   ]
  },
  {
   "cell_type": "code",
   "execution_count": 19,
   "metadata": {},
   "outputs": [],
   "source": [
    "base_agrup_final = base_agrup_final.select(\"tbEstabelecimento_CO_UNIDADE\",\"tbEstabelecimento_CO_CNES\",\"tbEstabelecimento_TP_UNIDADE\",\"tbTipoUnidade_DS_TIPO_UNIDADE\",\"dtbBrasilMunicipio_UF\",\"ibgePopulacao_UF\",\"dtbBrasilMunicipio_COD_REGIAO\",\"DS_REGIAO\",\"dtbBrasilMunicipio_CODMUNC_COMPLETO6\",\"dtbBrasilMunicipio_NOME_MUNC\",\"ibgePopulacao_POPULACAO_ESTIMADA\",\"total_Leitos\")"
   ]
  },
  {
   "cell_type": "code",
   "execution_count": 26,
   "metadata": {},
   "outputs": [
    {
     "name": "stdout",
     "output_type": "stream",
     "text": [
      "root\n",
      " |-- tbEstabelecimento_CO_UNIDADE: string (nullable = true)\n",
      " |-- tbEstabelecimento_CO_CNES: integer (nullable = true)\n",
      " |-- tbEstabelecimento_TP_UNIDADE: integer (nullable = true)\n",
      " |-- tbTipoUnidade_DS_TIPO_UNIDADE: string (nullable = true)\n",
      " |-- dtbBrasilMunicipio_UF: integer (nullable = true)\n",
      " |-- ibgePopulacao_UF: string (nullable = true)\n",
      " |-- dtbBrasilMunicipio_COD_REGIAO: string (nullable = true)\n",
      " |-- DS_REGIAO: string (nullable = false)\n",
      " |-- dtbBrasilMunicipio_CODMUNC_COMPLETO6: integer (nullable = true)\n",
      " |-- dtbBrasilMunicipio_NOME_MUNC: string (nullable = true)\n",
      " |-- ibgePopulacao_POPULACAO_ESTIMADA: integer (nullable = true)\n",
      " |-- total_Leitos: long (nullable = true)\n",
      "\n"
     ]
    }
   ],
   "source": [
    "base_agrup_final.printSchema()"
   ]
  },
  {
   "cell_type": "code",
   "execution_count": 20,
   "metadata": {
    "scrolled": false
   },
   "outputs": [
    {
     "name": "stdout",
     "output_type": "stream",
     "text": [
      "+----------------------------+-------------------------+----------------------------+-----------------------------+---------------------+----------------+-----------------------------+------------+------------------------------------+----------------------------+--------------------------------+------------+\n",
      "|tbEstabelecimento_CO_UNIDADE|tbEstabelecimento_CO_CNES|tbEstabelecimento_TP_UNIDADE|tbTipoUnidade_DS_TIPO_UNIDADE|dtbBrasilMunicipio_UF|ibgePopulacao_UF|dtbBrasilMunicipio_COD_REGIAO|DS_REGIAO   |dtbBrasilMunicipio_CODMUNC_COMPLETO6|dtbBrasilMunicipio_NOME_MUNC|ibgePopulacao_POPULACAO_ESTIMADA|total_Leitos|\n",
      "+----------------------------+-------------------------+----------------------------+-----------------------------+---------------------+----------------+-----------------------------+------------+------------------------------------+----------------------------+--------------------------------+------------+\n",
      "|3108602119412               |2119412                  |5                           |HOSPITAL GERAL               |31                   |MG              |3                            |Sudeste     |310860                              |Brasília de Minas           |32288                           |18          |\n",
      "|5201403225143               |3225143                  |7                           |HOSPITAL ESPECIALIZADO       |52                   |GO              |5                            |Centro-Oeste|520140                              |Aparecida de Goiânia        |565957                          |6           |\n",
      "|2927405616387               |5616387                  |5                           |HOSPITAL GERAL               |29                   |BA              |2                            |Nordeste    |292740                              |Salvador                    |2857329                         |32          |\n",
      "|3525209452354               |9452354                  |5                           |HOSPITAL GERAL               |35                   |SP              |3                            |Sudeste     |352520                              |Jarinu                      |29456                           |12          |\n",
      "|2108302454947               |2454947                  |5                           |HOSPITAL GERAL               |21                   |MA              |2                            |Nordeste    |210830                              |Penalva                     |38203                           |48          |\n",
      "+----------------------------+-------------------------+----------------------------+-----------------------------+---------------------+----------------+-----------------------------+------------+------------------------------------+----------------------------+--------------------------------+------------+\n",
      "only showing top 5 rows\n",
      "\n"
     ]
    }
   ],
   "source": [
    "base_agrup_final.show(5,False)"
   ]
  },
  {
   "cell_type": "markdown",
   "metadata": {},
   "source": [
    "## Conversão da base principal no formato CSV"
   ]
  },
  {
   "cell_type": "code",
   "execution_count": null,
   "metadata": {},
   "outputs": [],
   "source": [
    "base_agrup_final.repartition(1).write.csv(\"base_agrup_FINAL1.csv\", sep=';', header=True)"
   ]
  },
  {
   "cell_type": "markdown",
   "metadata": {},
   "source": [
    "# DESCRITIVA"
   ]
  },
  {
   "cell_type": "markdown",
   "metadata": {},
   "source": [
    "####  A base de dados em análise possui como População as Unidades Básicas de Saúde dos Municípios do Brasil, sendo classificada como finita uma vez que seus elementos são finitos. Por sua vez tem-se como Amostra retratada neste estudo, a quantidade de leitos das Unidades Básicas de cada Município do Brasil."
   ]
  },
  {
   "cell_type": "code",
   "execution_count": 2,
   "metadata": {},
   "outputs": [],
   "source": [
    "data = spark.read.csv(\"base_agrup_FINAL1.csv\",sep=\";\",header=True,inferSchema=True)"
   ]
  },
  {
   "cell_type": "markdown",
   "metadata": {},
   "source": [
    "#### Verificação se os campos da base estão devidamente preenchidos."
   ]
  },
  {
   "cell_type": "code",
   "execution_count": 35,
   "metadata": {
    "scrolled": false
   },
   "outputs": [
    {
     "name": "stdout",
     "output_type": "stream",
     "text": [
      "tbEstabelecimento_CO_UNIDADE,9281.0,100.0\n",
      "tbEstabelecimento_CO_CNES,9281.0,100.0\n",
      "tbEstabelecimento_TP_UNIDADE,9281.0,100.0\n",
      "tbTipoUnidade_DS_TIPO_UNIDADE,9281.0,100.0\n",
      "dtbBrasilMunicipio_UF,9281.0,100.0\n",
      "ibgePopulacao_UF,9281.0,100.0\n",
      "dtbBrasilMunicipio_COD_REGIAO,9281.0,100.0\n",
      "DS_REGIAO,9281.0,100.0\n",
      "dtbBrasilMunicipio_CODMUNC_COMPLETO6,9281.0,100.0\n",
      "dtbBrasilMunicipio_NOME_MUNC,9281.0,100.0\n",
      "ibgePopulacao_POPULACAO_ESTIMADA,9281.0,100.0\n",
      "total_Leitos,9281.0,100.0\n"
     ]
    }
   ],
   "source": [
    "base = data\n",
    "tamanho = base.count()\n",
    "for coluna in base.columns:\n",
    "        nao_nulos = base.filter(F.col(coluna).isNotNull()).count()\n",
    "        nao_nulos = float(nao_nulos)\n",
    "        res =  (nao_nulos/tamanho) *100\n",
    "        print (coluna+\",\"+str(nao_nulos)+\",\"+str(res))"
   ]
  },
  {
   "cell_type": "markdown",
   "metadata": {},
   "source": [
    "## Criação de bases-recorte para análises descritivas em Pyspark."
   ]
  },
  {
   "cell_type": "code",
   "execution_count": 5,
   "metadata": {
    "scrolled": true
   },
   "outputs": [],
   "source": [
    "data1 = data.groupby(\"tbTipoUnidade_DS_TIPO_UNIDADE\").agg(F.sum(\"total_Leitos\").alias(\"total_Leitos\"))\n",
    "data2 = data.groupby(\"DS_REGIAO\").agg(F.sum(\"total_Leitos\").alias(\"total_Leitos\"))\n",
    "data3 = data.groupby(\"ibgePopulacao_UF\").agg(F.sum(\"total_Leitos\").alias(\"total_Leitos\"))\n",
    "data4 = data.groupby(\"dtbBrasilMunicipio_UF\",\"ibgePopulacao_UF\",\"dtbBrasilMunicipio_COD_REGIAO\",\"DS_REGIAO\",\"dtbBrasilMunicipio_NOME_MUNC\",\"dtbBrasilMunicipio_CODMUNC_COMPLETO6\",\"ibgePopulacao_POPULACAO_ESTIMADA\").agg(F.sum(\"total_Leitos\").alias(\"total_Leitos\"))\n",
    "data5 = data4.select(\"ibgePopulacao_POPULACAO_ESTIMADA\",\"total_Leitos\")\n",
    "data6 = data.groupby(\"DS_REGIAO\").agg(F.sum(\"ibgePopulacao_POPULACAO_ESTIMADA\").alias(\"total_Populacao\"))\n",
    "data7 = data.groupby(\"ibgePopulacao_UF\").agg(F.sum(\"ibgePopulacao_POPULACAO_ESTIMADA\").alias(\"total_Populacao\"))\n"
   ]
  },
  {
   "cell_type": "markdown",
   "metadata": {},
   "source": [
    "## Conversão das bases-recorte supracitadas de Pyspark para Pandas."
   ]
  },
  {
   "cell_type": "code",
   "execution_count": 6,
   "metadata": {},
   "outputs": [],
   "source": [
    "data1pandas = data1.toPandas()\n",
    "data2pandas = data2.toPandas()\n",
    "data3pandas = data3.toPandas()\n",
    "data4pandas = data4.toPandas()\n",
    "data5pandas = data5.toPandas()\n",
    "data6pandas = data6.toPandas()\n",
    "data7pandas = data7.toPandas()"
   ]
  },
  {
   "cell_type": "markdown",
   "metadata": {},
   "source": [
    "## Leitura da base principal diretamente no Pandas , \"head\" e \"shape\" da base."
   ]
  },
  {
   "cell_type": "code",
   "execution_count": 3,
   "metadata": {
    "scrolled": false
   },
   "outputs": [
    {
     "data": {
      "text/html": [
       "<div>\n",
       "<style scoped>\n",
       "    .dataframe tbody tr th:only-of-type {\n",
       "        vertical-align: middle;\n",
       "    }\n",
       "\n",
       "    .dataframe tbody tr th {\n",
       "        vertical-align: top;\n",
       "    }\n",
       "\n",
       "    .dataframe thead th {\n",
       "        text-align: right;\n",
       "    }\n",
       "</style>\n",
       "<table border=\"1\" class=\"dataframe\">\n",
       "  <thead>\n",
       "    <tr style=\"text-align: right;\">\n",
       "      <th></th>\n",
       "      <th>tbEstabelecimento_CO_UNIDADE</th>\n",
       "      <th>tbEstabelecimento_CO_CNES</th>\n",
       "      <th>tbEstabelecimento_TP_UNIDADE</th>\n",
       "      <th>tbTipoUnidade_DS_TIPO_UNIDADE</th>\n",
       "      <th>dtbBrasilMunicipio_UF</th>\n",
       "      <th>ibgePopulacao_UF</th>\n",
       "      <th>dtbBrasilMunicipio_COD_REGIAO</th>\n",
       "      <th>DS_REGIAO</th>\n",
       "      <th>dtbBrasilMunicipio_CODMUNC_COMPLETO6</th>\n",
       "      <th>dtbBrasilMunicipio_NOME_MUNC</th>\n",
       "      <th>ibgePopulacao_POPULACAO_ESTIMADA</th>\n",
       "      <th>total_Leitos</th>\n",
       "    </tr>\n",
       "  </thead>\n",
       "  <tbody>\n",
       "    <tr>\n",
       "      <th>0</th>\n",
       "      <td>3108602119412</td>\n",
       "      <td>2119412</td>\n",
       "      <td>5</td>\n",
       "      <td>HOSPITAL GERAL</td>\n",
       "      <td>31</td>\n",
       "      <td>MG</td>\n",
       "      <td>3</td>\n",
       "      <td>Sudeste</td>\n",
       "      <td>310860</td>\n",
       "      <td>Brasília de Minas</td>\n",
       "      <td>32288</td>\n",
       "      <td>18</td>\n",
       "    </tr>\n",
       "    <tr>\n",
       "      <th>1</th>\n",
       "      <td>5201403225143</td>\n",
       "      <td>3225143</td>\n",
       "      <td>7</td>\n",
       "      <td>HOSPITAL ESPECIALIZADO</td>\n",
       "      <td>52</td>\n",
       "      <td>GO</td>\n",
       "      <td>5</td>\n",
       "      <td>Centro-Oeste</td>\n",
       "      <td>520140</td>\n",
       "      <td>Aparecida de Goiânia</td>\n",
       "      <td>565957</td>\n",
       "      <td>6</td>\n",
       "    </tr>\n",
       "    <tr>\n",
       "      <th>2</th>\n",
       "      <td>2927405616387</td>\n",
       "      <td>5616387</td>\n",
       "      <td>5</td>\n",
       "      <td>HOSPITAL GERAL</td>\n",
       "      <td>29</td>\n",
       "      <td>BA</td>\n",
       "      <td>2</td>\n",
       "      <td>Nordeste</td>\n",
       "      <td>292740</td>\n",
       "      <td>Salvador</td>\n",
       "      <td>2857329</td>\n",
       "      <td>32</td>\n",
       "    </tr>\n",
       "    <tr>\n",
       "      <th>3</th>\n",
       "      <td>3525209452354</td>\n",
       "      <td>9452354</td>\n",
       "      <td>5</td>\n",
       "      <td>HOSPITAL GERAL</td>\n",
       "      <td>35</td>\n",
       "      <td>SP</td>\n",
       "      <td>3</td>\n",
       "      <td>Sudeste</td>\n",
       "      <td>352520</td>\n",
       "      <td>Jarinu</td>\n",
       "      <td>29456</td>\n",
       "      <td>12</td>\n",
       "    </tr>\n",
       "    <tr>\n",
       "      <th>4</th>\n",
       "      <td>2108302454947</td>\n",
       "      <td>2454947</td>\n",
       "      <td>5</td>\n",
       "      <td>HOSPITAL GERAL</td>\n",
       "      <td>21</td>\n",
       "      <td>MA</td>\n",
       "      <td>2</td>\n",
       "      <td>Nordeste</td>\n",
       "      <td>210830</td>\n",
       "      <td>Penalva</td>\n",
       "      <td>38203</td>\n",
       "      <td>48</td>\n",
       "    </tr>\n",
       "  </tbody>\n",
       "</table>\n",
       "</div>"
      ],
      "text/plain": [
       "  tbEstabelecimento_CO_UNIDADE  tbEstabelecimento_CO_CNES  \\\n",
       "0                3108602119412                    2119412   \n",
       "1                5201403225143                    3225143   \n",
       "2                2927405616387                    5616387   \n",
       "3                3525209452354                    9452354   \n",
       "4                2108302454947                    2454947   \n",
       "\n",
       "   tbEstabelecimento_TP_UNIDADE tbTipoUnidade_DS_TIPO_UNIDADE  \\\n",
       "0                             5                HOSPITAL GERAL   \n",
       "1                             7        HOSPITAL ESPECIALIZADO   \n",
       "2                             5                HOSPITAL GERAL   \n",
       "3                             5                HOSPITAL GERAL   \n",
       "4                             5                HOSPITAL GERAL   \n",
       "\n",
       "   dtbBrasilMunicipio_UF ibgePopulacao_UF  dtbBrasilMunicipio_COD_REGIAO  \\\n",
       "0                     31               MG                              3   \n",
       "1                     52               GO                              5   \n",
       "2                     29               BA                              2   \n",
       "3                     35               SP                              3   \n",
       "4                     21               MA                              2   \n",
       "\n",
       "      DS_REGIAO  dtbBrasilMunicipio_CODMUNC_COMPLETO6  \\\n",
       "0       Sudeste                                310860   \n",
       "1  Centro-Oeste                                520140   \n",
       "2      Nordeste                                292740   \n",
       "3       Sudeste                                352520   \n",
       "4      Nordeste                                210830   \n",
       "\n",
       "  dtbBrasilMunicipio_NOME_MUNC  ibgePopulacao_POPULACAO_ESTIMADA  total_Leitos  \n",
       "0            Brasília de Minas                             32288            18  \n",
       "1         Aparecida de Goiânia                            565957             6  \n",
       "2                     Salvador                           2857329            32  \n",
       "3                       Jarinu                             29456            12  \n",
       "4                      Penalva                             38203            48  "
      ]
     },
     "execution_count": 3,
     "metadata": {},
     "output_type": "execute_result"
    }
   ],
   "source": [
    "datapandas = pd.read_csv('base_agrup_FINAL1.csv', sep=';')\n",
    "datapandas.head()"
   ]
  },
  {
   "cell_type": "code",
   "execution_count": 4,
   "metadata": {
    "scrolled": true
   },
   "outputs": [
    {
     "data": {
      "application/vnd.jupyter.widget-view+json": {
       "model_id": "4292ebaa017b4b379d46131783b7d640",
       "version_major": 2,
       "version_minor": 0
      },
      "text/plain": [
       "QgridWidget(grid_options={'fullWidthRows': True, 'syncColumnCellResize': True, 'forceFitColumns': True, 'defau…"
      ]
     },
     "metadata": {},
     "output_type": "display_data"
    }
   ],
   "source": [
    "qgrid_widget = qgrid.show_grid(datapandas,show_toolbar=True) \n",
    "qgrid_widget"
   ]
  },
  {
   "cell_type": "code",
   "execution_count": 5,
   "metadata": {},
   "outputs": [
    {
     "data": {
      "text/html": [
       "\n",
       "        <iframe\n",
       "            width=\"100%\"\n",
       "            height=\"500\"\n",
       "            src=\"pivottablejs.html\"\n",
       "            frameborder=\"0\"\n",
       "            allowfullscreen\n",
       "        ></iframe>\n",
       "        "
      ],
      "text/plain": [
       "<IPython.lib.display.IFrame at 0x19aed6743c8>"
      ]
     },
     "execution_count": 5,
     "metadata": {},
     "output_type": "execute_result"
    }
   ],
   "source": [
    "pivot_ui(datapandas)"
   ]
  },
  {
   "cell_type": "markdown",
   "metadata": {},
   "source": [
    "### Os tipos de variáveis supracitados são:\n",
    "\n",
    "#### tbTipoUnidade_DS_TIPO_UNIDADE = Variável qualitativa nominal\n",
    "#### ibgePopulacao_UF = Variável qualitativa nominal\n",
    "#### DS_REGIAO = Variável qualitativa nominal\n",
    "#### dtbBrasilMunicipio_NOME_MUNC = Variável qualitativa nominal\n",
    "#### ibgePopulacao_POPULACAO_ESTIMADA = Variável quantitativa discreta\n",
    "#### total_Leitos = Variável quantitativa discreta"
   ]
  },
  {
   "cell_type": "code",
   "execution_count": 14,
   "metadata": {
    "scrolled": true
   },
   "outputs": [
    {
     "data": {
      "text/plain": [
       "(9281, 12)"
      ]
     },
     "execution_count": 14,
     "metadata": {},
     "output_type": "execute_result"
    }
   ],
   "source": [
    "datapandas.shape"
   ]
  },
  {
   "cell_type": "markdown",
   "metadata": {},
   "source": [
    "## Destribuição da população por Regiões."
   ]
  },
  {
   "cell_type": "code",
   "execution_count": 45,
   "metadata": {},
   "outputs": [
    {
     "name": "stdout",
     "output_type": "stream",
     "text": [
      "+------------+---------------+\n",
      "|DS_REGIAO   |total_Populacao|\n",
      "+------------+---------------+\n",
      "|Nordeste    |1321989519     |\n",
      "|Sul         |350850079      |\n",
      "|Sudeste     |7396755949     |\n",
      "|Centro-Oeste|623426388      |\n",
      "|Norte       |309750273      |\n",
      "+------------+---------------+\n",
      "\n"
     ]
    }
   ],
   "source": [
    "data6.show(50,False)"
   ]
  },
  {
   "cell_type": "code",
   "execution_count": 46,
   "metadata": {},
   "outputs": [
    {
     "data": {
      "text/plain": [
       "Text(0.5,1,'Regiões do Brasil x População')"
      ]
     },
     "execution_count": 46,
     "metadata": {},
     "output_type": "execute_result"
    },
    {
     "data": {
      "image/png": "[encoded data removed]",
      "text/plain": [
       "<Figure size 432x288 with 1 Axes>"
      ]
     },
     "metadata": {
      "needs_background": "light"
     },
     "output_type": "display_data"
    }
   ],
   "source": [
    "data6pandas.plot(kind='bar', x='DS_REGIAO', y='total_Populacao')\n",
    "plt.xlabel('Regiões do Brasil')\n",
    "plt.ylabel('População')\n",
    "plt.title('Regiões do Brasil x População')"
   ]
  },
  {
   "cell_type": "markdown",
   "metadata": {},
   "source": [
    "## Destribuição da população por Unidade Federativa."
   ]
  },
  {
   "cell_type": "code",
   "execution_count": 48,
   "metadata": {},
   "outputs": [
    {
     "name": "stdout",
     "output_type": "stream",
     "text": [
      "+----------------+---------------+\n",
      "|ibgePopulacao_UF|total_Populacao|\n",
      "+----------------+---------------+\n",
      "|SC              |46011443       |\n",
      "|RO              |19462744       |\n",
      "|PI              |54401624       |\n",
      "|AM              |139618510      |\n",
      "|RR              |3975098        |\n",
      "|GO              |242131612      |\n",
      "|TO              |8268035        |\n",
      "|MT              |28686842       |\n",
      "|SP              |4480976236     |\n",
      "|PB              |66243221       |\n",
      "|ES              |29988224       |\n",
      "|RS              |83643115       |\n",
      "|MS              |40264119       |\n",
      "|AL              |59963738       |\n",
      "|MG              |383302821      |\n",
      "|PA              |127769444      |\n",
      "|BA              |445280387      |\n",
      "|SE              |30060705       |\n",
      "|PE              |204066919      |\n",
      "|CE              |326952131      |\n",
      "|RN              |56249277       |\n",
      "|RJ              |2502488668     |\n",
      "|MA              |78771517       |\n",
      "|AC              |5280876        |\n",
      "|DF              |312343815      |\n",
      "|PR              |221195521      |\n",
      "|AP              |5375566        |\n",
      "+----------------+---------------+\n",
      "\n"
     ]
    }
   ],
   "source": [
    "data7.show(30,False)"
   ]
  },
  {
   "cell_type": "code",
   "execution_count": 49,
   "metadata": {},
   "outputs": [
    {
     "data": {
      "text/plain": [
       "Text(0.5,1,'Unidades Federativas x População')"
      ]
     },
     "execution_count": 49,
     "metadata": {},
     "output_type": "execute_result"
    },
    {
     "data": {
      "image/png": "[encoded data removed]",
      "text/plain": [
       "<Figure size 432x288 with 1 Axes>"
      ]
     },
     "metadata": {
      "needs_background": "light"
     },
     "output_type": "display_data"
    }
   ],
   "source": [
    "data7pandas.plot(kind='bar', x='ibgePopulacao_UF', y='total_Populacao')\n",
    "plt.xlabel('Unidades Federativas do Brasil')\n",
    "plt.ylabel('População')\n",
    "plt.title('Unidades Federativas x População')"
   ]
  },
  {
   "cell_type": "markdown",
   "metadata": {},
   "source": [
    "## Tipos de Unidades Básicas de Saúde e seus respectivos leitos totais no Brasil."
   ]
  },
  {
   "cell_type": "code",
   "execution_count": 37,
   "metadata": {},
   "outputs": [
    {
     "name": "stdout",
     "output_type": "stream",
     "text": [
      "+------------------------------------------------------------+------------+\n",
      "|tbTipoUnidade_DS_TIPO_UNIDADE                               |total_Leitos|\n",
      "+------------------------------------------------------------+------------+\n",
      "|HOSPITAL ESPECIALIZADO                                      |92238       |\n",
      "|CENTRO DE PARTO NORMAL - ISOLADO                            |231         |\n",
      "|SERVICO DE ATENCAO DOMICILIAR ISOLADO(HOME CARE)            |173         |\n",
      "|UNIDADE DE ATENCAO EM REGIME RESIDENCIAL                    |224         |\n",
      "|CENTRAL DE REGULACAO MEDICA DAS URGENCIAS                   |1           |\n",
      "|LABORATORIO DE SAUDE PUBLICA                                |1           |\n",
      "|HOSPITAL/DIA - ISOLADO                                      |6363        |\n",
      "|UNIDADE MISTA                                               |11463       |\n",
      "|CENTRO DE ATENCAO HEMOTERAPIA E OU HEMATOLOGICA             |55          |\n",
      "|CLINICA/CENTRO DE ESPECIALIDADE                             |5122        |\n",
      "|CENTRO DE ATENCAO PSICOSSOCIAL                              |2091        |\n",
      "|PRONTO SOCORRO ESPECIALIZADO                                |2963        |\n",
      "|PRONTO SOCORRO GERAL                                        |2750        |\n",
      "|POLO DE PREVENCAO DE DOENCAS E AGRAVOS E PROMOCAO DA SAUDE  |97          |\n",
      "|CENTRAL DE NOTIFICACAO,CAPTACAO E DISTRIB DE ORGAOS ESTADUAL|402         |\n",
      "|HOSPITAL GERAL                                              |423345      |\n",
      "|PRONTO ATENDIMENTO                                          |713         |\n",
      "+------------------------------------------------------------+------------+\n",
      "\n"
     ]
    }
   ],
   "source": [
    "data1.show(100,False)"
   ]
  },
  {
   "cell_type": "code",
   "execution_count": 76,
   "metadata": {},
   "outputs": [
    {
     "data": {
      "text/plain": [
       "Text(0.5,1,'Quantidade de Leitos / Tipo de Unidade Basica')"
      ]
     },
     "execution_count": 76,
     "metadata": {},
     "output_type": "execute_result"
    },
    {
     "data": {
      "image/png": "[encoded data removed]",
      "text/plain": [
       "<Figure size 432x288 with 1 Axes>"
      ]
     },
     "metadata": {
      "needs_background": "light"
     },
     "output_type": "display_data"
    }
   ],
   "source": [
    "data1pandas.plot(kind='bar', x='tbTipoUnidade_DS_TIPO_UNIDADE', y='total_Leitos')\n",
    "plt.xlabel('Tipos de Unidades Basicas')\n",
    "plt.ylabel('Quantidade de Leitos')\n",
    "plt.title('Quantidade de Leitos / Tipo de Unidade Basica')"
   ]
  },
  {
   "cell_type": "markdown",
   "metadata": {},
   "source": [
    "## Quantidade de Leitos por Região do Brasil."
   ]
  },
  {
   "cell_type": "code",
   "execution_count": 5,
   "metadata": {},
   "outputs": [
    {
     "name": "stdout",
     "output_type": "stream",
     "text": [
      "+------------+------------+\n",
      "|DS_REGIAO   |total_Leitos|\n",
      "+------------+------------+\n",
      "|Nordeste    |140333      |\n",
      "|Sul         |87158       |\n",
      "|Sudeste     |236444      |\n",
      "|Centro-Oeste|45471       |\n",
      "|Norte       |38826       |\n",
      "+------------+------------+\n",
      "\n"
     ]
    }
   ],
   "source": [
    "data2.show(30,False)"
   ]
  },
  {
   "cell_type": "code",
   "execution_count": 21,
   "metadata": {},
   "outputs": [
    {
     "data": {
      "text/plain": [
       "Text(0.5,1,'Quantidade de Leitos X Regioes do Brasil')"
      ]
     },
     "execution_count": 21,
     "metadata": {},
     "output_type": "execute_result"
    },
    {
     "data": {
      "image/png": "[encoded data removed]",
      "text/plain": [
       "<Figure size 432x288 with 1 Axes>"
      ]
     },
     "metadata": {
      "needs_background": "light"
     },
     "output_type": "display_data"
    }
   ],
   "source": [
    "data2pandas.plot(kind='bar', x='DS_REGIAO', y='total_Leitos')\n",
    "plt.xlabel('Regioes do Brasil')\n",
    "plt.ylabel('Quantidade de Leitos')\n",
    "plt.title('Quantidade de Leitos X Regioes do Brasil')"
   ]
  },
  {
   "cell_type": "markdown",
   "metadata": {},
   "source": [
    "## Total de Leitos Por Unidade Federativa."
   ]
  },
  {
   "cell_type": "code",
   "execution_count": 6,
   "metadata": {
    "scrolled": false
   },
   "outputs": [
    {
     "name": "stdout",
     "output_type": "stream",
     "text": [
      "+----------------+------------+\n",
      "|ibgePopulacao_UF|total_Leitos|\n",
      "+----------------+------------+\n",
      "|SC              |17943       |\n",
      "|RO              |5137        |\n",
      "|PI              |8696        |\n",
      "|AM              |7408        |\n",
      "|RR              |1165        |\n",
      "|GO              |20911       |\n",
      "|TO              |3249        |\n",
      "|MT              |8887        |\n",
      "|SP              |118495      |\n",
      "|PB              |11320       |\n",
      "|ES              |10274       |\n",
      "|RS              |35397       |\n",
      "|MS              |6707        |\n",
      "|AL              |7079        |\n",
      "|MG              |49270       |\n",
      "|PA              |18815       |\n",
      "|BA              |34479       |\n",
      "|SE              |3865        |\n",
      "|PE              |26402       |\n",
      "|CE              |22098       |\n",
      "|RN              |9144        |\n",
      "|RJ              |58405       |\n",
      "|MA              |17250       |\n",
      "|AC              |1667        |\n",
      "|DF              |8966        |\n",
      "|PR              |33818       |\n",
      "|AP              |1385        |\n",
      "+----------------+------------+\n",
      "\n"
     ]
    }
   ],
   "source": [
    "\n",
    "data3.show(30,False)"
   ]
  },
  {
   "cell_type": "code",
   "execution_count": 42,
   "metadata": {
    "scrolled": true
   },
   "outputs": [
    {
     "data": {
      "text/plain": [
       "Text(0.5,1,'Quantidade de Leitos X Unidades Federativas do Brasil')"
      ]
     },
     "execution_count": 42,
     "metadata": {},
     "output_type": "execute_result"
    },
    {
     "data": {
      "image/png": "[encoded data removed]",
      "text/plain": [
       "<Figure size 432x288 with 1 Axes>"
      ]
     },
     "metadata": {
      "needs_background": "light"
     },
     "output_type": "display_data"
    }
   ],
   "source": [
    "data3pandas.plot(kind='bar', x='ibgePopulacao_UF', y='total_Leitos')\n",
    "plt.xlabel('Estados do Brasil')\n",
    "plt.ylabel('Quantidade de Leitos')\n",
    "plt.title('Quantidade de Leitos X Unidades Federativas do Brasil')"
   ]
  },
  {
   "cell_type": "markdown",
   "metadata": {},
   "source": [
    "## Agrupamento da quantidade de leitos por Municípios do Brasil."
   ]
  },
  {
   "cell_type": "code",
   "execution_count": 16,
   "metadata": {
    "scrolled": true
   },
   "outputs": [
    {
     "name": "stdout",
     "output_type": "stream",
     "text": [
      "+---------------------+----------------+-----------------------------+------------+----------------------------+------------------------------------+--------------------------------+------------+\n",
      "|dtbBrasilMunicipio_UF|ibgePopulacao_UF|dtbBrasilMunicipio_COD_REGIAO|DS_REGIAO   |dtbBrasilMunicipio_NOME_MUNC|dtbBrasilMunicipio_CODMUNC_COMPLETO6|ibgePopulacao_POPULACAO_ESTIMADA|total_Leitos|\n",
      "+---------------------+----------------+-----------------------------+------------+----------------------------+------------------------------------+--------------------------------+------------+\n",
      "|25                   |PB              |2                            |Nordeste    |João Pessoa                 |250750                              |800323                          |4045        |\n",
      "|25                   |PB              |2                            |Nordeste    |Pedras de Fogo              |251120                              |28389                           |52          |\n",
      "|41                   |PR              |4                            |Sul         |Cianorte                    |410550                              |81393                           |171         |\n",
      "|31                   |MG              |3                            |Sudeste     |Serro                       |316710                              |20993                           |56          |\n",
      "|31                   |MG              |3                            |Sudeste     |Ribeirão das Neves          |315460                              |331045                          |113         |\n",
      "|42                   |SC              |4                            |Sul         |São Francisco do Sul        |421620                              |51677                           |96          |\n",
      "|51                   |MT              |5                            |Centro-Oeste|Nova Maringá                |510890                              |8428                            |6           |\n",
      "|31                   |MG              |3                            |Sudeste     |Lavras                      |313820                              |102728                          |212         |\n",
      "|21                   |MA              |2                            |Nordeste    |São Raimundo das Mangabeiras|211160                              |18755                           |23          |\n",
      "|24                   |RN              |2                            |Nordeste    |Jardim de Angicos           |240550                              |2617                            |3           |\n",
      "|52                   |GO              |5                            |Centro-Oeste|Itumbiara                   |521150                              |103652                          |269         |\n",
      "|21                   |MA              |2                            |Nordeste    |Matões                      |210660                              |33615                           |71          |\n",
      "|29                   |BA              |2                            |Nordeste    |Wagner                      |293340                              |9347                            |37          |\n",
      "|27                   |AL              |2                            |Nordeste    |Junqueiro                   |270400                              |24731                           |36          |\n",
      "|27                   |AL              |2                            |Nordeste    |Atalaia                     |270040                              |47000                           |82          |\n",
      "|25                   |PB              |2                            |Nordeste    |Cacimba de Areia            |250340                              |3729                            |5           |\n",
      "|42                   |SC              |4                            |Sul         |Jaguaruna                   |420880                              |19755                           |29          |\n",
      "|31                   |MG              |3                            |Sudeste     |Pimenta                     |315050                              |8631                            |12          |\n",
      "|42                   |SC              |4                            |Sul         |Vargeão                     |421910                              |3575                            |22          |\n",
      "|31                   |MG              |3                            |Sudeste     |Mercês                      |314160                              |10720                           |20          |\n",
      "|29                   |BA              |2                            |Nordeste    |Santo Amaro                 |292860                              |59512                           |92          |\n",
      "|52                   |GO              |5                            |Centro-Oeste|Palmelo                     |521580                              |2380                            |14          |\n",
      "|50                   |MS              |5                            |Centro-Oeste|Taquarussu                  |500797                              |3583                            |4           |\n",
      "|21                   |MA              |2                            |Nordeste    |Cajapió                     |210240                              |11136                           |19          |\n",
      "|25                   |PB              |2                            |Nordeste    |Santa Luzia                 |251340                              |15336                           |36          |\n",
      "|43                   |RS              |4                            |Sul         |Boa Vista do Buricá         |430220                              |6712                            |40          |\n",
      "|52                   |GO              |5                            |Centro-Oeste|Hidrolina                   |520980                              |3622                            |28          |\n",
      "|43                   |RS              |4                            |Sul         |Encruzilhada do Sul         |430690                              |25791                           |53          |\n",
      "|35                   |SP              |3                            |Sudeste     |Nhandeara                   |353260                              |11427                           |129         |\n",
      "|41                   |PR              |4                            |Sul         |Joaquim Távora              |411280                              |11803                           |31          |\n",
      "+---------------------+----------------+-----------------------------+------------+----------------------------+------------------------------------+--------------------------------+------------+\n",
      "only showing top 30 rows\n",
      "\n"
     ]
    }
   ],
   "source": [
    "data4.show(30,False)"
   ]
  },
  {
   "cell_type": "markdown",
   "metadata": {},
   "source": [
    "## População estimada dos Municípios do Brasil x Quantidade de Leitos por Município."
   ]
  },
  {
   "cell_type": "code",
   "execution_count": 18,
   "metadata": {
    "scrolled": true
   },
   "outputs": [
    {
     "data": {
      "image/png": "[encoded data removed]",
      "text/plain": [
       "<Figure size 432x288 with 1 Axes>"
      ]
     },
     "metadata": {
      "needs_background": "light"
     },
     "output_type": "display_data"
    }
   ],
   "source": [
    "data5pandas.plot(x='ibgePopulacao_POPULACAO_ESTIMADA', y='total_Leitos', style='o')  \n",
    "plt.title('Populacao vs Leitos')  \n",
    "plt.xlabel('Populacao Estimada')  \n",
    "plt.ylabel('Quantidade de Leitos')  \n",
    "plt.show()"
   ]
  },
  {
   "cell_type": "markdown",
   "metadata": {},
   "source": [
    "## Parâmetros da Base"
   ]
  },
  {
   "cell_type": "markdown",
   "metadata": {},
   "source": [
    "#### Depois de agrupada a base, foram encontrados 3714 Municípios que possuem Unidades Básicas de Saúde, com média de leitos de 147,61 e desvio padrão de 944,28. O município com menor quantidade de leitos, possui 1 leito e o com maior quantidade possui 38075 leitos."
   ]
  },
  {
   "cell_type": "code",
   "execution_count": 9,
   "metadata": {},
   "outputs": [
    {
     "data": {
      "text/plain": [
       "count     3714.000000\n",
       "mean       147.612278\n",
       "std        944.281791\n",
       "min          1.000000\n",
       "25%         20.000000\n",
       "50%         35.000000\n",
       "75%         73.000000\n",
       "max      38075.000000\n",
       "Name: total_Leitos, dtype: float64"
      ]
     },
     "execution_count": 9,
     "metadata": {},
     "output_type": "execute_result"
    }
   ],
   "source": [
    "data4pandas.total_Leitos.describe()"
   ]
  },
  {
   "cell_type": "code",
   "execution_count": 44,
   "metadata": {},
   "outputs": [
    {
     "data": {
      "text/plain": [
       "Text(0,0.5,'Quantidade de Leitos')"
      ]
     },
     "execution_count": 44,
     "metadata": {},
     "output_type": "execute_result"
    },
    {
     "data": {
      "image/png": "[encoded data removed]",
      "text/plain": [
       "<Figure size 432x288 with 1 Axes>"
      ]
     },
     "metadata": {
      "needs_background": "light"
     },
     "output_type": "display_data"
    }
   ],
   "source": [
    "box = plt.boxplot(data4pandas.total_Leitos, showmeans=True, whis=99)\n",
    "plt.setp(box['boxes'][0], color='green')\n",
    "plt.setp(box['caps'][0], color='green')\n",
    "plt.setp(box['whiskers'][0], color='green')\n",
    "plt.grid(True, axis='y')\n",
    "plt.title('Distribuição da Quantidade de Leitos', fontsize=18)\n",
    "plt.ylabel('Quantidade de Leitos')"
   ]
  },
  {
   "cell_type": "markdown",
   "metadata": {},
   "source": [
    "#### Aplicando o método de Pearson, constata-se que as variáveis que quardam maior correlação entre si são \"ibgePopulacao_POPULACAO_ESTIMADA\" e \"total_Leitos\" com 0.971228. A posteriori algumas das variáveis citadas serão utilizadas na regressão linear."
   ]
  },
  {
   "cell_type": "code",
   "execution_count": 22,
   "metadata": {},
   "outputs": [
    {
     "name": "stdout",
     "output_type": "stream",
     "text": [
      "                                      dtbBrasilMunicipio_UF  \\\n",
      "dtbBrasilMunicipio_UF                              1.000000   \n",
      "dtbBrasilMunicipio_COD_REGIAO                      0.976834   \n",
      "dtbBrasilMunicipio_CODMUNC_COMPLETO6               0.999905   \n",
      "ibgePopulacao_POPULACAO_ESTIMADA                   0.006499   \n",
      "total_Leitos                                       0.016052   \n",
      "\n",
      "                                      dtbBrasilMunicipio_COD_REGIAO  \\\n",
      "dtbBrasilMunicipio_UF                                      0.976834   \n",
      "dtbBrasilMunicipio_COD_REGIAO                              1.000000   \n",
      "dtbBrasilMunicipio_CODMUNC_COMPLETO6                       0.976674   \n",
      "ibgePopulacao_POPULACAO_ESTIMADA                           0.001208   \n",
      "total_Leitos                                               0.012316   \n",
      "\n",
      "                                      dtbBrasilMunicipio_CODMUNC_COMPLETO6  \\\n",
      "dtbBrasilMunicipio_UF                                             0.999905   \n",
      "dtbBrasilMunicipio_COD_REGIAO                                     0.976674   \n",
      "dtbBrasilMunicipio_CODMUNC_COMPLETO6                              1.000000   \n",
      "ibgePopulacao_POPULACAO_ESTIMADA                                  0.006978   \n",
      "total_Leitos                                                      0.016381   \n",
      "\n",
      "                                      ibgePopulacao_POPULACAO_ESTIMADA  \\\n",
      "dtbBrasilMunicipio_UF                                         0.006499   \n",
      "dtbBrasilMunicipio_COD_REGIAO                                 0.001208   \n",
      "dtbBrasilMunicipio_CODMUNC_COMPLETO6                          0.006978   \n",
      "ibgePopulacao_POPULACAO_ESTIMADA                              1.000000   \n",
      "total_Leitos                                                  0.971228   \n",
      "\n",
      "                                      total_Leitos  \n",
      "dtbBrasilMunicipio_UF                     0.016052  \n",
      "dtbBrasilMunicipio_COD_REGIAO             0.012316  \n",
      "dtbBrasilMunicipio_CODMUNC_COMPLETO6      0.016381  \n",
      "ibgePopulacao_POPULACAO_ESTIMADA          0.971228  \n",
      "total_Leitos                              1.000000  \n"
     ]
    }
   ],
   "source": [
    "print(data4pandas.corr())"
   ]
  },
  {
   "cell_type": "code",
   "execution_count": 10,
   "metadata": {},
   "outputs": [
    {
     "data": {
      "image/png": "[encoded data removed]",
      "text/plain": [
       "<Figure size 1620x1620 with 30 Axes>"
      ]
     },
     "metadata": {
      "needs_background": "light"
     },
     "output_type": "display_data"
    }
   ],
   "source": [
    "cols = ['dtbBrasilMunicipio_UF', 'dtbBrasilMunicipio_COD_REGIAO', 'dtbBrasilMunicipio_CODMUNC_COMPLETO6', 'ibgePopulacao_POPULACAO_ESTIMADA', 'total_Leitos']\n",
    "sns.pairplot(data4pandas[cols], height=4.5)\n",
    "plt.tight_layout()\n",
    "plt.show()"
   ]
  },
  {
   "cell_type": "markdown",
   "metadata": {},
   "source": [
    "## Regressão Linear Simples"
   ]
  },
  {
   "cell_type": "markdown",
   "metadata": {},
   "source": [
    "#### O objetivo da regressão linear simples (univariada) é modelar a relação entre uma única característica (variável explicativa x) e uma resposta (variável y)."
   ]
  },
  {
   "cell_type": "code",
   "execution_count": 15,
   "metadata": {},
   "outputs": [],
   "source": [
    "features = data5pandas[['ibgePopulacao_POPULACAO_ESTIMADA']] \n",
    "target = data5pandas['total_Leitos']\n",
    "X=features\n",
    "y=target"
   ]
  },
  {
   "cell_type": "code",
   "execution_count": 16,
   "metadata": {},
   "outputs": [],
   "source": [
    "X_train, X_test, y_train, y_test = train_test_split(X, y, test_size=0.2, random_state=0)"
   ]
  },
  {
   "cell_type": "code",
   "execution_count": 17,
   "metadata": {},
   "outputs": [
    {
     "data": {
      "text/plain": [
       "LinearRegression(copy_X=True, fit_intercept=True, n_jobs=1, normalize=False)"
      ]
     },
     "execution_count": 17,
     "metadata": {},
     "output_type": "execute_result"
    }
   ],
   "source": [
    "regressor.fit(X_train, y_train)"
   ]
  },
  {
   "cell_type": "code",
   "execution_count": 18,
   "metadata": {},
   "outputs": [],
   "source": [
    "y_pred = regressor.predict(X_test)"
   ]
  },
  {
   "cell_type": "code",
   "execution_count": 19,
   "metadata": {},
   "outputs": [
    {
     "data": {
      "text/html": [
       "<div>\n",
       "<style scoped>\n",
       "    .dataframe tbody tr th:only-of-type {\n",
       "        vertical-align: middle;\n",
       "    }\n",
       "\n",
       "    .dataframe tbody tr th {\n",
       "        vertical-align: top;\n",
       "    }\n",
       "\n",
       "    .dataframe thead th {\n",
       "        text-align: right;\n",
       "    }\n",
       "</style>\n",
       "<table border=\"1\" class=\"dataframe\">\n",
       "  <thead>\n",
       "    <tr style=\"text-align: right;\">\n",
       "      <th></th>\n",
       "      <th>Atual</th>\n",
       "      <th>Predito</th>\n",
       "    </tr>\n",
       "  </thead>\n",
       "  <tbody>\n",
       "    <tr>\n",
       "      <th>546</th>\n",
       "      <td>199</td>\n",
       "      <td>83.460509</td>\n",
       "    </tr>\n",
       "    <tr>\n",
       "      <th>2332</th>\n",
       "      <td>196</td>\n",
       "      <td>405.131931</td>\n",
       "    </tr>\n",
       "    <tr>\n",
       "      <th>2737</th>\n",
       "      <td>21</td>\n",
       "      <td>30.201637</td>\n",
       "    </tr>\n",
       "    <tr>\n",
       "      <th>2447</th>\n",
       "      <td>163</td>\n",
       "      <td>160.088598</td>\n",
       "    </tr>\n",
       "    <tr>\n",
       "      <th>1069</th>\n",
       "      <td>20</td>\n",
       "      <td>-14.961112</td>\n",
       "    </tr>\n",
       "    <tr>\n",
       "      <th>473</th>\n",
       "      <td>24</td>\n",
       "      <td>-0.213246</td>\n",
       "    </tr>\n",
       "    <tr>\n",
       "      <th>748</th>\n",
       "      <td>250</td>\n",
       "      <td>378.811758</td>\n",
       "    </tr>\n",
       "    <tr>\n",
       "      <th>567</th>\n",
       "      <td>59</td>\n",
       "      <td>34.272159</td>\n",
       "    </tr>\n",
       "    <tr>\n",
       "      <th>3696</th>\n",
       "      <td>103</td>\n",
       "      <td>507.458212</td>\n",
       "    </tr>\n",
       "    <tr>\n",
       "      <th>962</th>\n",
       "      <td>171</td>\n",
       "      <td>175.658862</td>\n",
       "    </tr>\n",
       "    <tr>\n",
       "      <th>635</th>\n",
       "      <td>58</td>\n",
       "      <td>26.988067</td>\n",
       "    </tr>\n",
       "    <tr>\n",
       "      <th>45</th>\n",
       "      <td>28</td>\n",
       "      <td>113.433094</td>\n",
       "    </tr>\n",
       "    <tr>\n",
       "      <th>2993</th>\n",
       "      <td>53</td>\n",
       "      <td>64.175635</td>\n",
       "    </tr>\n",
       "    <tr>\n",
       "      <th>436</th>\n",
       "      <td>20</td>\n",
       "      <td>-21.260400</td>\n",
       "    </tr>\n",
       "    <tr>\n",
       "      <th>248</th>\n",
       "      <td>12</td>\n",
       "      <td>62.575761</td>\n",
       "    </tr>\n",
       "    <tr>\n",
       "      <th>538</th>\n",
       "      <td>96</td>\n",
       "      <td>153.561250</td>\n",
       "    </tr>\n",
       "    <tr>\n",
       "      <th>2661</th>\n",
       "      <td>20</td>\n",
       "      <td>1.752906</td>\n",
       "    </tr>\n",
       "    <tr>\n",
       "      <th>1892</th>\n",
       "      <td>25</td>\n",
       "      <td>35.533398</td>\n",
       "    </tr>\n",
       "    <tr>\n",
       "      <th>3074</th>\n",
       "      <td>28</td>\n",
       "      <td>30.664667</td>\n",
       "    </tr>\n",
       "    <tr>\n",
       "      <th>3472</th>\n",
       "      <td>17</td>\n",
       "      <td>-24.843703</td>\n",
       "    </tr>\n",
       "    <tr>\n",
       "      <th>3517</th>\n",
       "      <td>111</td>\n",
       "      <td>106.432349</td>\n",
       "    </tr>\n",
       "    <tr>\n",
       "      <th>2095</th>\n",
       "      <td>38</td>\n",
       "      <td>-6.325939</td>\n",
       "    </tr>\n",
       "    <tr>\n",
       "      <th>1694</th>\n",
       "      <td>25</td>\n",
       "      <td>0.363814</td>\n",
       "    </tr>\n",
       "    <tr>\n",
       "      <th>927</th>\n",
       "      <td>30</td>\n",
       "      <td>8.038372</td>\n",
       "    </tr>\n",
       "    <tr>\n",
       "      <th>2669</th>\n",
       "      <td>24</td>\n",
       "      <td>4.489623</td>\n",
       "    </tr>\n",
       "    <tr>\n",
       "      <th>1015</th>\n",
       "      <td>20</td>\n",
       "      <td>68.688454</td>\n",
       "    </tr>\n",
       "    <tr>\n",
       "      <th>1283</th>\n",
       "      <td>61</td>\n",
       "      <td>27.572038</td>\n",
       "    </tr>\n",
       "    <tr>\n",
       "      <th>2128</th>\n",
       "      <td>249</td>\n",
       "      <td>268.814375</td>\n",
       "    </tr>\n",
       "    <tr>\n",
       "      <th>1867</th>\n",
       "      <td>65</td>\n",
       "      <td>71.490825</td>\n",
       "    </tr>\n",
       "    <tr>\n",
       "      <th>2454</th>\n",
       "      <td>13</td>\n",
       "      <td>6.517973</td>\n",
       "    </tr>\n",
       "    <tr>\n",
       "      <th>...</th>\n",
       "      <td>...</td>\n",
       "      <td>...</td>\n",
       "    </tr>\n",
       "    <tr>\n",
       "      <th>1666</th>\n",
       "      <td>43</td>\n",
       "      <td>22.454515</td>\n",
       "    </tr>\n",
       "    <tr>\n",
       "      <th>2720</th>\n",
       "      <td>28</td>\n",
       "      <td>12.523548</td>\n",
       "    </tr>\n",
       "    <tr>\n",
       "      <th>1742</th>\n",
       "      <td>120</td>\n",
       "      <td>72.178460</td>\n",
       "    </tr>\n",
       "    <tr>\n",
       "      <th>493</th>\n",
       "      <td>14</td>\n",
       "      <td>21.065423</td>\n",
       "    </tr>\n",
       "    <tr>\n",
       "      <th>3682</th>\n",
       "      <td>14</td>\n",
       "      <td>-25.341288</td>\n",
       "    </tr>\n",
       "    <tr>\n",
       "      <th>2226</th>\n",
       "      <td>35</td>\n",
       "      <td>4.106068</td>\n",
       "    </tr>\n",
       "    <tr>\n",
       "      <th>3372</th>\n",
       "      <td>642</td>\n",
       "      <td>1103.112372</td>\n",
       "    </tr>\n",
       "    <tr>\n",
       "      <th>1772</th>\n",
       "      <td>65</td>\n",
       "      <td>106.981766</td>\n",
       "    </tr>\n",
       "    <tr>\n",
       "      <th>1767</th>\n",
       "      <td>499</td>\n",
       "      <td>673.530660</td>\n",
       "    </tr>\n",
       "    <tr>\n",
       "      <th>289</th>\n",
       "      <td>8</td>\n",
       "      <td>-19.798744</td>\n",
       "    </tr>\n",
       "    <tr>\n",
       "      <th>683</th>\n",
       "      <td>50</td>\n",
       "      <td>84.500599</td>\n",
       "    </tr>\n",
       "    <tr>\n",
       "      <th>2596</th>\n",
       "      <td>79</td>\n",
       "      <td>85.710007</td>\n",
       "    </tr>\n",
       "    <tr>\n",
       "      <th>3548</th>\n",
       "      <td>37</td>\n",
       "      <td>29.106259</td>\n",
       "    </tr>\n",
       "    <tr>\n",
       "      <th>2330</th>\n",
       "      <td>50</td>\n",
       "      <td>305.770427</td>\n",
       "    </tr>\n",
       "    <tr>\n",
       "      <th>2235</th>\n",
       "      <td>54</td>\n",
       "      <td>40.858249</td>\n",
       "    </tr>\n",
       "    <tr>\n",
       "      <th>796</th>\n",
       "      <td>3</td>\n",
       "      <td>27.834653</td>\n",
       "    </tr>\n",
       "    <tr>\n",
       "      <th>570</th>\n",
       "      <td>15</td>\n",
       "      <td>-22.165728</td>\n",
       "    </tr>\n",
       "    <tr>\n",
       "      <th>692</th>\n",
       "      <td>24</td>\n",
       "      <td>54.175558</td>\n",
       "    </tr>\n",
       "    <tr>\n",
       "      <th>2224</th>\n",
       "      <td>16</td>\n",
       "      <td>-15.838797</td>\n",
       "    </tr>\n",
       "    <tr>\n",
       "      <th>1184</th>\n",
       "      <td>169</td>\n",
       "      <td>100.782686</td>\n",
       "    </tr>\n",
       "    <tr>\n",
       "      <th>3406</th>\n",
       "      <td>13</td>\n",
       "      <td>-11.381265</td>\n",
       "    </tr>\n",
       "    <tr>\n",
       "      <th>3546</th>\n",
       "      <td>15</td>\n",
       "      <td>119.822223</td>\n",
       "    </tr>\n",
       "    <tr>\n",
       "      <th>1397</th>\n",
       "      <td>20</td>\n",
       "      <td>18.622419</td>\n",
       "    </tr>\n",
       "    <tr>\n",
       "      <th>2445</th>\n",
       "      <td>343</td>\n",
       "      <td>276.654794</td>\n",
       "    </tr>\n",
       "    <tr>\n",
       "      <th>2769</th>\n",
       "      <td>45</td>\n",
       "      <td>10.063266</td>\n",
       "    </tr>\n",
       "    <tr>\n",
       "      <th>2497</th>\n",
       "      <td>965</td>\n",
       "      <td>1262.951186</td>\n",
       "    </tr>\n",
       "    <tr>\n",
       "      <th>2700</th>\n",
       "      <td>269</td>\n",
       "      <td>290.269272</td>\n",
       "    </tr>\n",
       "    <tr>\n",
       "      <th>1599</th>\n",
       "      <td>16</td>\n",
       "      <td>49.686927</td>\n",
       "    </tr>\n",
       "    <tr>\n",
       "      <th>576</th>\n",
       "      <td>12</td>\n",
       "      <td>-16.861611</td>\n",
       "    </tr>\n",
       "    <tr>\n",
       "      <th>1424</th>\n",
       "      <td>423</td>\n",
       "      <td>1065.067853</td>\n",
       "    </tr>\n",
       "  </tbody>\n",
       "</table>\n",
       "<p>743 rows × 2 columns</p>\n",
       "</div>"
      ],
      "text/plain": [
       "      Atual      Predito\n",
       "546     199    83.460509\n",
       "2332    196   405.131931\n",
       "2737     21    30.201637\n",
       "2447    163   160.088598\n",
       "1069     20   -14.961112\n",
       "473      24    -0.213246\n",
       "748     250   378.811758\n",
       "567      59    34.272159\n",
       "3696    103   507.458212\n",
       "962     171   175.658862\n",
       "635      58    26.988067\n",
       "45       28   113.433094\n",
       "2993     53    64.175635\n",
       "436      20   -21.260400\n",
       "248      12    62.575761\n",
       "538      96   153.561250\n",
       "2661     20     1.752906\n",
       "1892     25    35.533398\n",
       "3074     28    30.664667\n",
       "3472     17   -24.843703\n",
       "3517    111   106.432349\n",
       "2095     38    -6.325939\n",
       "1694     25     0.363814\n",
       "927      30     8.038372\n",
       "2669     24     4.489623\n",
       "1015     20    68.688454\n",
       "1283     61    27.572038\n",
       "2128    249   268.814375\n",
       "1867     65    71.490825\n",
       "2454     13     6.517973\n",
       "...     ...          ...\n",
       "1666     43    22.454515\n",
       "2720     28    12.523548\n",
       "1742    120    72.178460\n",
       "493      14    21.065423\n",
       "3682     14   -25.341288\n",
       "2226     35     4.106068\n",
       "3372    642  1103.112372\n",
       "1772     65   106.981766\n",
       "1767    499   673.530660\n",
       "289       8   -19.798744\n",
       "683      50    84.500599\n",
       "2596     79    85.710007\n",
       "3548     37    29.106259\n",
       "2330     50   305.770427\n",
       "2235     54    40.858249\n",
       "796       3    27.834653\n",
       "570      15   -22.165728\n",
       "692      24    54.175558\n",
       "2224     16   -15.838797\n",
       "1184    169   100.782686\n",
       "3406     13   -11.381265\n",
       "3546     15   119.822223\n",
       "1397     20    18.622419\n",
       "2445    343   276.654794\n",
       "2769     45    10.063266\n",
       "2497    965  1262.951186\n",
       "2700    269   290.269272\n",
       "1599     16    49.686927\n",
       "576      12   -16.861611\n",
       "1424    423  1065.067853\n",
       "\n",
       "[743 rows x 2 columns]"
      ]
     },
     "execution_count": 19,
     "metadata": {},
     "output_type": "execute_result"
    }
   ],
   "source": [
    "df = pd.DataFrame({'Atual': y_test, 'Predito': y_pred})  \n",
    "df"
   ]
  },
  {
   "cell_type": "markdown",
   "metadata": {},
   "source": [
    "   #### Com o resultado aquém do esperado, entendemos por testar se \"outliers\" não estariam viesando negativamente a análise:"
   ]
  },
  {
   "cell_type": "code",
   "execution_count": 9,
   "metadata": {},
   "outputs": [],
   "source": [
    "def reject_outliers(data5pandas):\n",
    "    u = np.mean(data5pandas.total_Leitos)\n",
    "    s = np.std(data5pandas.total_Leitos)\n",
    "    data_filtered = data5pandas[(data5pandas.total_Leitos > u-2*s) & (data5pandas.total_Leitos < u+2*s)]\n",
    "    return data_filtered"
   ]
  },
  {
   "cell_type": "code",
   "execution_count": 10,
   "metadata": {},
   "outputs": [],
   "source": [
    "data_filtered=reject_outliers(data5pandas)\n",
    "features = data_filtered[['ibgePopulacao_POPULACAO_ESTIMADA']] \n",
    "target = data_filtered['total_Leitos']\n",
    "X=features\n",
    "y=target"
   ]
  },
  {
   "cell_type": "code",
   "execution_count": 11,
   "metadata": {},
   "outputs": [],
   "source": [
    "X_train, X_test, y_train, y_test = train_test_split(X, y, test_size=0.2, random_state=0)"
   ]
  },
  {
   "cell_type": "code",
   "execution_count": 12,
   "metadata": {
    "scrolled": true
   },
   "outputs": [
    {
     "data": {
      "text/plain": [
       "LinearRegression(copy_X=True, fit_intercept=True, n_jobs=1, normalize=False)"
      ]
     },
     "execution_count": 12,
     "metadata": {},
     "output_type": "execute_result"
    }
   ],
   "source": [
    "regressor = LinearRegression()  \n",
    "regressor.fit(X_train, y_train)"
   ]
  },
  {
   "cell_type": "code",
   "execution_count": 13,
   "metadata": {},
   "outputs": [],
   "source": [
    "y_pred = regressor.predict(X_test) "
   ]
  },
  {
   "cell_type": "code",
   "execution_count": 14,
   "metadata": {},
   "outputs": [
    {
     "data": {
      "text/html": [
       "<div>\n",
       "<style scoped>\n",
       "    .dataframe tbody tr th:only-of-type {\n",
       "        vertical-align: middle;\n",
       "    }\n",
       "\n",
       "    .dataframe tbody tr th {\n",
       "        vertical-align: top;\n",
       "    }\n",
       "\n",
       "    .dataframe thead th {\n",
       "        text-align: right;\n",
       "    }\n",
       "</style>\n",
       "<table border=\"1\" class=\"dataframe\">\n",
       "  <thead>\n",
       "    <tr style=\"text-align: right;\">\n",
       "      <th></th>\n",
       "      <th>Atual</th>\n",
       "      <th>Predito</th>\n",
       "    </tr>\n",
       "  </thead>\n",
       "  <tbody>\n",
       "    <tr>\n",
       "      <th>489</th>\n",
       "      <td>14</td>\n",
       "      <td>15.253737</td>\n",
       "    </tr>\n",
       "    <tr>\n",
       "      <th>2126</th>\n",
       "      <td>30</td>\n",
       "      <td>82.358487</td>\n",
       "    </tr>\n",
       "    <tr>\n",
       "      <th>3498</th>\n",
       "      <td>13</td>\n",
       "      <td>130.835951</td>\n",
       "    </tr>\n",
       "    <tr>\n",
       "      <th>1440</th>\n",
       "      <td>392</td>\n",
       "      <td>232.371700</td>\n",
       "    </tr>\n",
       "    <tr>\n",
       "      <th>809</th>\n",
       "      <td>13</td>\n",
       "      <td>17.347234</td>\n",
       "    </tr>\n",
       "    <tr>\n",
       "      <th>3272</th>\n",
       "      <td>53</td>\n",
       "      <td>59.933428</td>\n",
       "    </tr>\n",
       "    <tr>\n",
       "      <th>1779</th>\n",
       "      <td>30</td>\n",
       "      <td>34.910498</td>\n",
       "    </tr>\n",
       "    <tr>\n",
       "      <th>2207</th>\n",
       "      <td>101</td>\n",
       "      <td>80.912155</td>\n",
       "    </tr>\n",
       "    <tr>\n",
       "      <th>522</th>\n",
       "      <td>22</td>\n",
       "      <td>15.525500</td>\n",
       "    </tr>\n",
       "    <tr>\n",
       "      <th>1995</th>\n",
       "      <td>31</td>\n",
       "      <td>48.669079</td>\n",
       "    </tr>\n",
       "    <tr>\n",
       "      <th>551</th>\n",
       "      <td>101</td>\n",
       "      <td>57.929751</td>\n",
       "    </tr>\n",
       "    <tr>\n",
       "      <th>2227</th>\n",
       "      <td>58</td>\n",
       "      <td>86.844881</td>\n",
       "    </tr>\n",
       "    <tr>\n",
       "      <th>405</th>\n",
       "      <td>53</td>\n",
       "      <td>39.744656</td>\n",
       "    </tr>\n",
       "    <tr>\n",
       "      <th>1951</th>\n",
       "      <td>13</td>\n",
       "      <td>27.266586</td>\n",
       "    </tr>\n",
       "    <tr>\n",
       "      <th>2565</th>\n",
       "      <td>26</td>\n",
       "      <td>44.210322</td>\n",
       "    </tr>\n",
       "    <tr>\n",
       "      <th>3491</th>\n",
       "      <td>55</td>\n",
       "      <td>48.632230</td>\n",
       "    </tr>\n",
       "    <tr>\n",
       "      <th>89</th>\n",
       "      <td>24</td>\n",
       "      <td>14.058440</td>\n",
       "    </tr>\n",
       "    <tr>\n",
       "      <th>806</th>\n",
       "      <td>20</td>\n",
       "      <td>41.858881</td>\n",
       "    </tr>\n",
       "    <tr>\n",
       "      <th>1632</th>\n",
       "      <td>1</td>\n",
       "      <td>29.795364</td>\n",
       "    </tr>\n",
       "    <tr>\n",
       "      <th>2004</th>\n",
       "      <td>15</td>\n",
       "      <td>32.020136</td>\n",
       "    </tr>\n",
       "    <tr>\n",
       "      <th>566</th>\n",
       "      <td>45</td>\n",
       "      <td>64.138846</td>\n",
       "    </tr>\n",
       "    <tr>\n",
       "      <th>2787</th>\n",
       "      <td>31</td>\n",
       "      <td>42.342527</td>\n",
       "    </tr>\n",
       "    <tr>\n",
       "      <th>2298</th>\n",
       "      <td>23</td>\n",
       "      <td>30.691261</td>\n",
       "    </tr>\n",
       "    <tr>\n",
       "      <th>340</th>\n",
       "      <td>33</td>\n",
       "      <td>68.473237</td>\n",
       "    </tr>\n",
       "    <tr>\n",
       "      <th>2593</th>\n",
       "      <td>49</td>\n",
       "      <td>41.478873</td>\n",
       "    </tr>\n",
       "    <tr>\n",
       "      <th>1377</th>\n",
       "      <td>96</td>\n",
       "      <td>63.289011</td>\n",
       "    </tr>\n",
       "    <tr>\n",
       "      <th>1666</th>\n",
       "      <td>43</td>\n",
       "      <td>40.652068</td>\n",
       "    </tr>\n",
       "    <tr>\n",
       "      <th>3157</th>\n",
       "      <td>297</td>\n",
       "      <td>188.088139</td>\n",
       "    </tr>\n",
       "    <tr>\n",
       "      <th>1624</th>\n",
       "      <td>24</td>\n",
       "      <td>9.947448</td>\n",
       "    </tr>\n",
       "    <tr>\n",
       "      <th>649</th>\n",
       "      <td>100</td>\n",
       "      <td>46.015934</td>\n",
       "    </tr>\n",
       "    <tr>\n",
       "      <th>...</th>\n",
       "      <td>...</td>\n",
       "      <td>...</td>\n",
       "    </tr>\n",
       "    <tr>\n",
       "      <th>580</th>\n",
       "      <td>2</td>\n",
       "      <td>12.245918</td>\n",
       "    </tr>\n",
       "    <tr>\n",
       "      <th>703</th>\n",
       "      <td>16</td>\n",
       "      <td>35.490873</td>\n",
       "    </tr>\n",
       "    <tr>\n",
       "      <th>2184</th>\n",
       "      <td>14</td>\n",
       "      <td>31.974075</td>\n",
       "    </tr>\n",
       "    <tr>\n",
       "      <th>2848</th>\n",
       "      <td>6</td>\n",
       "      <td>15.414952</td>\n",
       "    </tr>\n",
       "    <tr>\n",
       "      <th>1914</th>\n",
       "      <td>14</td>\n",
       "      <td>36.769081</td>\n",
       "    </tr>\n",
       "    <tr>\n",
       "      <th>3111</th>\n",
       "      <td>173</td>\n",
       "      <td>124.306729</td>\n",
       "    </tr>\n",
       "    <tr>\n",
       "      <th>2739</th>\n",
       "      <td>26</td>\n",
       "      <td>26.658573</td>\n",
       "    </tr>\n",
       "    <tr>\n",
       "      <th>1118</th>\n",
       "      <td>12</td>\n",
       "      <td>19.795404</td>\n",
       "    </tr>\n",
       "    <tr>\n",
       "      <th>2767</th>\n",
       "      <td>369</td>\n",
       "      <td>325.906560</td>\n",
       "    </tr>\n",
       "    <tr>\n",
       "      <th>2350</th>\n",
       "      <td>78</td>\n",
       "      <td>107.763728</td>\n",
       "    </tr>\n",
       "    <tr>\n",
       "      <th>3191</th>\n",
       "      <td>18</td>\n",
       "      <td>15.366588</td>\n",
       "    </tr>\n",
       "    <tr>\n",
       "      <th>3132</th>\n",
       "      <td>18</td>\n",
       "      <td>26.055167</td>\n",
       "    </tr>\n",
       "    <tr>\n",
       "      <th>586</th>\n",
       "      <td>40</td>\n",
       "      <td>13.084238</td>\n",
       "    </tr>\n",
       "    <tr>\n",
       "      <th>1294</th>\n",
       "      <td>50</td>\n",
       "      <td>100.983469</td>\n",
       "    </tr>\n",
       "    <tr>\n",
       "      <th>689</th>\n",
       "      <td>36</td>\n",
       "      <td>98.362568</td>\n",
       "    </tr>\n",
       "    <tr>\n",
       "      <th>789</th>\n",
       "      <td>573</td>\n",
       "      <td>652.422977</td>\n",
       "    </tr>\n",
       "    <tr>\n",
       "      <th>760</th>\n",
       "      <td>32</td>\n",
       "      <td>12.607501</td>\n",
       "    </tr>\n",
       "    <tr>\n",
       "      <th>3065</th>\n",
       "      <td>1046</td>\n",
       "      <td>1306.377042</td>\n",
       "    </tr>\n",
       "    <tr>\n",
       "      <th>24</th>\n",
       "      <td>36</td>\n",
       "      <td>38.254565</td>\n",
       "    </tr>\n",
       "    <tr>\n",
       "      <th>685</th>\n",
       "      <td>37</td>\n",
       "      <td>52.351699</td>\n",
       "    </tr>\n",
       "    <tr>\n",
       "      <th>2552</th>\n",
       "      <td>78</td>\n",
       "      <td>42.978176</td>\n",
       "    </tr>\n",
       "    <tr>\n",
       "      <th>1012</th>\n",
       "      <td>11</td>\n",
       "      <td>29.413053</td>\n",
       "    </tr>\n",
       "    <tr>\n",
       "      <th>1057</th>\n",
       "      <td>54</td>\n",
       "      <td>79.488853</td>\n",
       "    </tr>\n",
       "    <tr>\n",
       "      <th>1156</th>\n",
       "      <td>249</td>\n",
       "      <td>170.872639</td>\n",
       "    </tr>\n",
       "    <tr>\n",
       "      <th>1905</th>\n",
       "      <td>50</td>\n",
       "      <td>70.200544</td>\n",
       "    </tr>\n",
       "    <tr>\n",
       "      <th>2700</th>\n",
       "      <td>269</td>\n",
       "      <td>219.152039</td>\n",
       "    </tr>\n",
       "    <tr>\n",
       "      <th>2203</th>\n",
       "      <td>1432</td>\n",
       "      <td>1163.844222</td>\n",
       "    </tr>\n",
       "    <tr>\n",
       "      <th>434</th>\n",
       "      <td>36</td>\n",
       "      <td>61.031995</td>\n",
       "    </tr>\n",
       "    <tr>\n",
       "      <th>2369</th>\n",
       "      <td>30</td>\n",
       "      <td>77.998762</td>\n",
       "    </tr>\n",
       "    <tr>\n",
       "      <th>1514</th>\n",
       "      <td>3</td>\n",
       "      <td>18.740595</td>\n",
       "    </tr>\n",
       "  </tbody>\n",
       "</table>\n",
       "<p>736 rows × 2 columns</p>\n",
       "</div>"
      ],
      "text/plain": [
       "      Atual      Predito\n",
       "489      14    15.253737\n",
       "2126     30    82.358487\n",
       "3498     13   130.835951\n",
       "1440    392   232.371700\n",
       "809      13    17.347234\n",
       "3272     53    59.933428\n",
       "1779     30    34.910498\n",
       "2207    101    80.912155\n",
       "522      22    15.525500\n",
       "1995     31    48.669079\n",
       "551     101    57.929751\n",
       "2227     58    86.844881\n",
       "405      53    39.744656\n",
       "1951     13    27.266586\n",
       "2565     26    44.210322\n",
       "3491     55    48.632230\n",
       "89       24    14.058440\n",
       "806      20    41.858881\n",
       "1632      1    29.795364\n",
       "2004     15    32.020136\n",
       "566      45    64.138846\n",
       "2787     31    42.342527\n",
       "2298     23    30.691261\n",
       "340      33    68.473237\n",
       "2593     49    41.478873\n",
       "1377     96    63.289011\n",
       "1666     43    40.652068\n",
       "3157    297   188.088139\n",
       "1624     24     9.947448\n",
       "649     100    46.015934\n",
       "...     ...          ...\n",
       "580       2    12.245918\n",
       "703      16    35.490873\n",
       "2184     14    31.974075\n",
       "2848      6    15.414952\n",
       "1914     14    36.769081\n",
       "3111    173   124.306729\n",
       "2739     26    26.658573\n",
       "1118     12    19.795404\n",
       "2767    369   325.906560\n",
       "2350     78   107.763728\n",
       "3191     18    15.366588\n",
       "3132     18    26.055167\n",
       "586      40    13.084238\n",
       "1294     50   100.983469\n",
       "689      36    98.362568\n",
       "789     573   652.422977\n",
       "760      32    12.607501\n",
       "3065   1046  1306.377042\n",
       "24       36    38.254565\n",
       "685      37    52.351699\n",
       "2552     78    42.978176\n",
       "1012     11    29.413053\n",
       "1057     54    79.488853\n",
       "1156    249   170.872639\n",
       "1905     50    70.200544\n",
       "2700    269   219.152039\n",
       "2203   1432  1163.844222\n",
       "434      36    61.031995\n",
       "2369     30    77.998762\n",
       "1514      3    18.740595\n",
       "\n",
       "[736 rows x 2 columns]"
      ]
     },
     "execution_count": 14,
     "metadata": {},
     "output_type": "execute_result"
    }
   ],
   "source": [
    "df = pd.DataFrame({'Atual': y_test, 'Predito': y_pred})  \n",
    "df "
   ]
  },
  {
   "cell_type": "markdown",
   "metadata": {},
   "source": [
    "#### O erro absoluto médio é uma medida da diferença entre duas variáveis contínuas, no caso em tela o y-original e o y-predito. O erro quadrático médio é definido como sendo a média da diferença entre o valor do estimador e do parâmetro ao quadrado."
   ]
  },
  {
   "cell_type": "code",
   "execution_count": 74,
   "metadata": {
    "scrolled": false
   },
   "outputs": [
    {
     "name": "stdout",
     "output_type": "stream",
     "text": [
      "Erro Absoluto Médio: 38.84574432946743\n",
      "Erro Quadrático Médio: 7632.481462695491\n"
     ]
    }
   ],
   "source": [
    "print('Erro Absoluto Médio:', metrics.mean_absolute_error(y_test, y_pred))  \n",
    "print('Erro Quadrático Médio:', metrics.mean_squared_error(y_test, y_pred))  "
   ]
  },
  {
   "cell_type": "code",
   "execution_count": 22,
   "metadata": {},
   "outputs": [],
   "source": [
    "def lin_regplot(X, y, model):\n",
    "    plt.scatter(X, y, c='steelblue', edgecolor='white', s=70)\n",
    "    plt.plot(X, model.predict(X), color='black', lw=2)\n",
    "    return None"
   ]
  },
  {
   "cell_type": "code",
   "execution_count": 45,
   "metadata": {},
   "outputs": [
    {
     "data": {
      "image/png": "[encoded data removed]",
      "text/plain": [
       "<Figure size 432x288 with 1 Axes>"
      ]
     },
     "metadata": {
      "needs_background": "light"
     },
     "output_type": "display_data"
    }
   ],
   "source": [
    "lin_regplot(X_test, y_test, regressor)\n",
    "plt.xlabel('População Estimada')\n",
    "plt.ylabel('Quantidade de Leitos por Município')\n",
    "plt.show()"
   ]
  },
  {
   "cell_type": "markdown",
   "metadata": {},
   "source": [
    "##### Com o resultado obtido na regressão linear simples é possível inferir que, talvez, os leitos das Unidades Básicas de Saúde não estejam distribuídos da melhor maneira ao longo do território brasileiro, como observado na análise acima, alguns casos com uma diferença muito grande entre o valor testado e o valor predito. Como é sabido, um dos maiores problemas do país reside no aspecto da saúde, e através do presente estudo podemos verificar a  maneira como esses leitos são distribuídos em todo território nacional."
   ]
  }
 ],
 "metadata": {
  "kernelspec": {
   "display_name": "Python 3",
   "language": "python",
   "name": "python3"
  },
  "language_info": {
   "codemirror_mode": {
    "name": "ipython",
    "version": 3
   },
   "file_extension": ".py",
   "mimetype": "text/x-python",
   "name": "python",
   "nbconvert_exporter": "python",
   "pygments_lexer": "ipython3",
   "version": "3.7.3"
  }
 },
 "nbformat": 4,
 "nbformat_minor": 2
}
